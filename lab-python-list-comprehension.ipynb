{
 "cells": [
  {
   "cell_type": "markdown",
   "id": "25d7736c-ba17-4aff-b6bb-66eba20fbf4e",
   "metadata": {},
   "source": [
    "# Lab | List, Dict and Set Comprehension"
   ]
  },
  {
   "cell_type": "markdown",
   "id": "7dd3cbde-675a-4b81-92c3-f728846dbe06",
   "metadata": {},
   "source": [
    "## Exercise: Managing Customer Orders Optimized with Comprehension"
   ]
  },
  {
   "cell_type": "markdown",
   "id": "5d500160-2fb7-4777-b5e4-09d45ebaf328",
   "metadata": {},
   "source": [
    "In the previous exercise, you developed a program to manage customer orders and inventory. Now, let's take it a step further and incorporate comprehension into your code.\n",
    "\n",
    "Follow the steps below to complete the exercise:\n",
    "\n",
    "1. Review your code from the previous exercise and identify areas where you can apply comprehension to simplify and streamline your code. \n",
    "\n",
    "    - *Hint: Apply it to initialize inventory, updating the inventory and printing the updated inventory.*\n",
    "    \n",
    "    - For example, in initializing the inventory, we could have:\n",
    "    \n",
    "        ```python\n",
    "        def initialize_inventory(products):\n",
    "            inventory = {product: int(input(f\"Enter the quantity of {product}s available: \")) for product in products}\n",
    "            return inventory\n",
    "\n",
    "        ```\n",
    "<br>\n",
    "    \n",
    "    \n",
    "2. Modify the function get_customer_orders so it prompts the user to enter the number of customer orders and gathers the product names using a loop and user input. Use comprehension.\n",
    "\n",
    "3. Add a new function to calculate the total price of the customer order. For each product in customer_orders, prompt the user to enter the price of that product. Use comprehension to calculate the total price. Note: assume that the user can only have 1 unit of each product.\n",
    "\n",
    "4. Modify the update_inventory function to remove the product from the inventory if its quantity becomes zero after fulfilling the customer orders. Use comprehension to filter out the products with a quantity of zero from the inventory.\n",
    "\n",
    "5. Print the total price of the customer order.\n",
    "\n",
    "Your code should produce output similar to the following:\n",
    "\n",
    "```python\n",
    "Enter the quantity of t-shirts available:  5\n",
    "Enter the quantity of mugs available:  4\n",
    "Enter the quantity of hats available:  3\n",
    "Enter the quantity of books available:  2\n",
    "Enter the quantity of keychains available:  1\n",
    "Enter the number of customer orders:  2\n",
    "Enter the name of a product that a customer wants to order:  hat\n",
    "Enter the name of a product that a customer wants to order:  keychain\n",
    "\n",
    "Order Statistics:\n",
    "Total Products Ordered: 2\n",
    "Percentage of Unique Products Ordered: 40.0\n",
    "\n",
    "Updated Inventory:\n",
    "t-shirt: 5\n",
    "mug: 4\n",
    "hat: 2\n",
    "book: 2\n",
    "Enter the price of keychain:  5\n",
    "Enter the price of hat:  10\n",
    "Total Price: 15.0\n",
    "\n",
    "```\n"
   ]
  },
  {
   "cell_type": "code",
   "execution_count": 3,
   "id": "dc972e53",
   "metadata": {},
   "outputs": [],
   "source": [
    "# Step 1: Initialize inventory using dictionary comprehension\n",
    "def initialize_inventory(products):\n",
    "    return {product: int(input(f\"Enter the quantity of {product}s available: \")) for product in products}"
   ]
  },
  {
   "cell_type": "code",
   "execution_count": 4,
   "id": "02379ad2",
   "metadata": {},
   "outputs": [],
   "source": [
    "# Step 2: Get customer orders using list comprehension\n",
    "def get_customer_orders():\n",
    "    num_orders = int(input(\"Enter the number of customer orders: \"))\n",
    "    return [input(\"Enter the name of a product the customer wants to order: \") for _ in range(num_orders)]"
   ]
  },
  {
   "cell_type": "code",
   "execution_count": 9,
   "id": "660e62cc",
   "metadata": {},
   "outputs": [],
   "source": [
    "# Step 3: Calculate total order price using dictionary comprehension\n",
    "def calculate_total_price(orders):\n",
    "    prices = {product: float(input(f\"Enter the price of {product}:\")) for product in orders}\n",
    "    return sum(prices.values())"
   ]
  },
  {
   "cell_type": "code",
   "execution_count": 6,
   "id": "dcfbb874",
   "metadata": {},
   "outputs": [],
   "source": [
    "# Step 4: Update inventory and remove items with zero stock using dictionary comprehension\n",
    "def update_inventory(inventory, orders):\n",
    "    for product in orders:\n",
    "        if product in inventory and inventory[product] > 0:\n",
    "            inventory[product] -= 1\n",
    "    return {product: quantity for product, quantity in inventory.items() if quantity > 0}"
   ]
  },
  {
   "cell_type": "code",
   "execution_count": 8,
   "id": "c2e530e6",
   "metadata": {},
   "outputs": [
    {
     "name": "stdout",
     "output_type": "stream",
     "text": [
      "\n",
      "Order Statistics:\n",
      "Total Products Ordered: 2\n",
      "Percentage of Unique Products Ordered: 40.00%\n",
      "\n",
      "Updated Inventory:\n",
      "t-shirt: 5\n",
      "mug: 4\n",
      "hat: 2\n",
      "book: 2\n",
      "\n",
      "Total Price: 15.00\n"
     ]
    }
   ],
   "source": [
    "# Step 5: Display results\n",
    "def main():\n",
    "    available_products = [\"t-shirt\", \"mug\", \"hat\", \"book\", \"keychain\"]\n",
    "    inventory = initialize_inventory(available_products)\n",
    "    \n",
    "    orders = get_customer_orders()\n",
    "    \n",
    "    # Order statistics\n",
    "    total_products_ordered = len(orders)\n",
    "    unique_product_percentage = (total_products_ordered / len(available_products)) * 100\n",
    "    \n",
    "    print(\"\\nOrder Statistics:\")\n",
    "    print(f\"Total Products Ordered: {total_products_ordered}\")\n",
    "    print(f\"Percentage of Unique Products Ordered: {unique_product_percentage:.2f}%\\n\")\n",
    "    \n",
    "    # Update inventory\n",
    "    updated_inventory = update_inventory(inventory, orders)\n",
    "    \n",
    "    # Display updated inventory\n",
    "    print(\"Updated Inventory:\")\n",
    "    for product, quantity in updated_inventory.items():\n",
    "        print(f\"{product}: {quantity}\")\n",
    "    \n",
    "    # Calculate total order price\n",
    "    total_price = calculate_total_price(orders)\n",
    "    print(f\"\\nTotal Price: {total_price:.2f}\")\n",
    "\n",
    "# Run the program\n",
    "main()"
   ]
  }
 ],
 "metadata": {
  "kernelspec": {
   "display_name": "Python 3",
   "language": "python",
   "name": "python3"
  },
  "language_info": {
   "codemirror_mode": {
    "name": "ipython",
    "version": 3
   },
   "file_extension": ".py",
   "mimetype": "text/x-python",
   "name": "python",
   "nbconvert_exporter": "python",
   "pygments_lexer": "ipython3",
   "version": "3.13.2"
  }
 },
 "nbformat": 4,
 "nbformat_minor": 5
}
